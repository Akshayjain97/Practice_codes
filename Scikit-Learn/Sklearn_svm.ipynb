{
  "nbformat": 4,
  "nbformat_minor": 0,
  "metadata": {
    "colab": {
      "name": "mit2021038_iml.ipynb",
      "provenance": []
    },
    "kernelspec": {
      "name": "python3",
      "display_name": "Python 3"
    },
    "language_info": {
      "name": "python"
    }
  },
  "cells": [
    {
      "cell_type": "code",
      "execution_count": 1,
      "metadata": {
        "id": "6Q0BiXWnHdiI"
      },
      "outputs": [],
      "source": [
        "import numpy as np \n",
        "import matplotlib.pyplot as plt\n",
        "import pandas as pd"
      ]
    },
    {
      "cell_type": "markdown",
      "source": [
        "# Loading data , removed id column "
      ],
      "metadata": {
        "id": "thtqx--M2Sqa"
      }
    },
    {
      "cell_type": "code",
      "source": [
        "data=pd.read_csv('data.csv')\n",
        "data.drop(['id'],axis=1)\n",
        "y=data.iloc[:,1]\n",
        "x=data.iloc[:,2:-1]"
      ],
      "metadata": {
        "id": "H7W_N3oIHoHu"
      },
      "execution_count": null,
      "outputs": []
    },
    {
      "cell_type": "markdown",
      "source": [
        "# Imputer for missing data"
      ],
      "metadata": {
        "id": "luSYsnzs2onC"
      }
    },
    {
      "cell_type": "code",
      "source": [
        "\"\"\"\n",
        "from sklearn.impute import SimpleImputer\n",
        "imputer = SimpleImputer(missing_values=np.nan,strategy='mean')\n",
        "imputer.fit(x[:,:-1])\n",
        "x[:,1:-1] = imputer.transform([x[:,1:-1]])\n",
        "\"\"\""
      ],
      "metadata": {
        "id": "R8pzrlfSU6GV"
      },
      "execution_count": null,
      "outputs": []
    },
    {
      "cell_type": "markdown",
      "source": [
        "# encoding M and B to 1 and 0"
      ],
      "metadata": {
        "id": "JVCzPlyu2zF9"
      }
    },
    {
      "cell_type": "markdown",
      "source": [
        ""
      ],
      "metadata": {
        "id": "ooBAVTbo2y5P"
      }
    },
    {
      "cell_type": "code",
      "source": [
        "from sklearn.preprocessing import LabelEncoder\n",
        "le = LabelEncoder()\n",
        "y = le.fit_transform(y)"
      ],
      "metadata": {
        "id": "hEeSvdWyw-UX"
      },
      "execution_count": null,
      "outputs": []
    },
    {
      "cell_type": "markdown",
      "source": [
        "# Divide dataset to training and testing"
      ],
      "metadata": {
        "id": "OKClyS9J27hD"
      }
    },
    {
      "cell_type": "code",
      "source": [
        "from sklearn.model_selection import train_test_split\n",
        "x_train, x_test, y_train, y_test = train_test_split(x, y, test_size = 0.3, random_state = 0)\n"
      ],
      "metadata": {
        "id": "Pca-mTdHx8X8"
      },
      "execution_count": 26,
      "outputs": []
    },
    {
      "cell_type": "markdown",
      "source": [
        "# Feature scaling"
      ],
      "metadata": {
        "id": "SM7HSpZa3FTr"
      }
    },
    {
      "cell_type": "code",
      "source": [
        "from sklearn.preprocessing import StandardScaler\n",
        "sc = StandardScaler()\n",
        "x_train = sc.fit_transform(x_train)\n",
        "x_test = sc.transform(x_test)"
      ],
      "metadata": {
        "id": "hvUATUzayhDl"
      },
      "execution_count": 24,
      "outputs": []
    },
    {
      "cell_type": "markdown",
      "source": [
        "# SVM.svc for classification"
      ],
      "metadata": {
        "id": "R6BRatJ53OQ6"
      }
    },
    {
      "cell_type": "code",
      "source": [
        "from sklearn.svm import SVC\n",
        "clf = SVC()\n",
        "clf.fit(x_train,y_train)\n",
        "clf.score(x_test,y_test)"
      ],
      "metadata": {
        "colab": {
          "base_uri": "https://localhost:8080/"
        },
        "id": "wU7_Jxfxzdct",
        "outputId": "ef6a7e2f-95ff-4b76-d9e0-3de62cbb6817"
      },
      "execution_count": 27,
      "outputs": [
        {
          "output_type": "execute_result",
          "data": {
            "text/plain": [
              "0.9239766081871345"
            ]
          },
          "metadata": {},
          "execution_count": 27
        }
      ]
    }
  ]
}