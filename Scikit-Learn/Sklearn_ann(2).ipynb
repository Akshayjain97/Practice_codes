{
  "nbformat": 4,
  "nbformat_minor": 0,
  "metadata": {
    "colab": {
      "name": "mit2021038_iml_ann.ipynb",
      "provenance": []
    },
    "kernelspec": {
      "name": "python3",
      "display_name": "Python 3"
    },
    "language_info": {
      "name": "python"
    },
    "accelerator": "GPU"
  },
  "cells": [
    {
      "cell_type": "code",
      "execution_count": 142,
      "metadata": {
        "id": "EJ4Gu2473gOt"
      },
      "outputs": [],
      "source": [
        "import numpy as np \n",
        "import matplotlib.pyplot as plt\n",
        "import pandas as pd\n",
        "import seaborn as sb"
      ]
    },
    {
      "cell_type": "code",
      "source": [
        "data=pd.read_csv('data.csv')\n",
        "data.drop(['id'],axis=1)\n",
        "y=data.iloc[:,1]\n",
        "x=data.iloc[:,2:-1]"
      ],
      "metadata": {
        "id": "ve3BYRm2Csqw"
      },
      "execution_count": 143,
      "outputs": []
    },
    {
      "cell_type": "code",
      "source": [
        "from sklearn.preprocessing import LabelEncoder\n",
        "le = LabelEncoder()\n",
        "y = le.fit_transform(y)"
      ],
      "metadata": {
        "id": "JyK7qZR5C-d3"
      },
      "execution_count": 144,
      "outputs": []
    },
    {
      "cell_type": "code",
      "source": [
        "from sklearn.model_selection import train_test_split\n",
        "x_train, x_test, y_train, y_test = train_test_split(x, y, test_size = 0.3, random_state = 0)"
      ],
      "metadata": {
        "id": "gyDyqiEmDC_f"
      },
      "execution_count": 145,
      "outputs": []
    },
    {
      "cell_type": "code",
      "source": [
        "from sklearn.preprocessing import StandardScaler\n",
        "sc = StandardScaler()\n",
        "x_train = sc.fit_transform(x_train)\n",
        "x_test = sc.transform(x_test)"
      ],
      "metadata": {
        "id": "dGPNGklJDFJf"
      },
      "execution_count": 146,
      "outputs": []
    },
    {
      "cell_type": "code",
      "source": [
        "from keras.models import Sequential\n",
        "from keras.layers import Dense\n",
        "from keras.layers import LeakyReLU,PReLU"
      ],
      "metadata": {
        "id": "4txwc7HJDIxq"
      },
      "execution_count": 147,
      "outputs": []
    },
    {
      "cell_type": "code",
      "source": [
        "clf = Sequential()"
      ],
      "metadata": {
        "id": "mKJ4SwLhDI7v"
      },
      "execution_count": 148,
      "outputs": []
    },
    {
      "cell_type": "code",
      "source": [
        "clf.add(Dense(units=9,kernel_initializer='he_uniform',activation='leaky_relu',input_dim=30))\n",
        "clf.add(Dense(units=9,kernel_initializer='he_uniform',activation='leaky_relu'))\n",
        "clf.add(Dense(units=1,kernel_initializer='glorot_uniform',activation='sigmoid'))"
      ],
      "metadata": {
        "id": "U5zpGrgHE1UK"
      },
      "execution_count": 149,
      "outputs": []
    },
    {
      "cell_type": "code",
      "source": [
        "clf.summary()"
      ],
      "metadata": {
        "colab": {
          "base_uri": "https://localhost:8080/"
        },
        "id": "UQwECocWFnrR",
        "outputId": "609587bd-37ca-4742-b141-e4533b3bcfc4"
      },
      "execution_count": 150,
      "outputs": [
        {
          "output_type": "stream",
          "name": "stdout",
          "text": [
            "Model: \"sequential_9\"\n",
            "_________________________________________________________________\n",
            " Layer (type)                Output Shape              Param #   \n",
            "=================================================================\n",
            " dense_40 (Dense)            (None, 9)                 279       \n",
            "                                                                 \n",
            " dense_41 (Dense)            (None, 9)                 90        \n",
            "                                                                 \n",
            " dense_42 (Dense)            (None, 1)                 10        \n",
            "                                                                 \n",
            "=================================================================\n",
            "Total params: 379\n",
            "Trainable params: 379\n",
            "Non-trainable params: 0\n",
            "_________________________________________________________________\n"
          ]
        }
      ]
    },
    {
      "cell_type": "code",
      "source": [
        "clf.compile(optimizer='adam',loss='binary_crossentropy',metrics=['accuracy'])"
      ],
      "metadata": {
        "id": "_sKuXg6TF956"
      },
      "execution_count": 151,
      "outputs": []
    },
    {
      "cell_type": "code",
      "source": [
        "model = clf.fit(x_train,y_train,batch_size=100,epochs=100)"
      ],
      "metadata": {
        "colab": {
          "base_uri": "https://localhost:8080/"
        },
        "id": "BvwwNh-BGYol",
        "outputId": "75735563-8f2d-4ea3-85ec-ad6da3c742a4"
      },
      "execution_count": 152,
      "outputs": [
        {
          "output_type": "stream",
          "name": "stdout",
          "text": [
            "Epoch 1/200\n",
            "4/4 [==============================] - 1s 5ms/step - loss: 1.0325 - accuracy: 0.4095\n",
            "Epoch 2/200\n",
            "4/4 [==============================] - 0s 5ms/step - loss: 0.9335 - accuracy: 0.4397\n",
            "Epoch 3/200\n",
            "4/4 [==============================] - 0s 5ms/step - loss: 0.8456 - accuracy: 0.4824\n",
            "Epoch 4/200\n",
            "4/4 [==============================] - 0s 5ms/step - loss: 0.7640 - accuracy: 0.5553\n",
            "Epoch 5/200\n",
            "4/4 [==============================] - 0s 5ms/step - loss: 0.6919 - accuracy: 0.6055\n",
            "Epoch 6/200\n",
            "4/4 [==============================] - 0s 5ms/step - loss: 0.6235 - accuracy: 0.6482\n",
            "Epoch 7/200\n",
            "4/4 [==============================] - 0s 5ms/step - loss: 0.5682 - accuracy: 0.6784\n",
            "Epoch 8/200\n",
            "4/4 [==============================] - 0s 5ms/step - loss: 0.5178 - accuracy: 0.7161\n",
            "Epoch 9/200\n",
            "4/4 [==============================] - 0s 5ms/step - loss: 0.4766 - accuracy: 0.7638\n",
            "Epoch 10/200\n",
            "4/4 [==============================] - 0s 7ms/step - loss: 0.4374 - accuracy: 0.7990\n",
            "Epoch 11/200\n",
            "4/4 [==============================] - 0s 5ms/step - loss: 0.4045 - accuracy: 0.8166\n",
            "Epoch 12/200\n",
            "4/4 [==============================] - 0s 5ms/step - loss: 0.3759 - accuracy: 0.8442\n",
            "Epoch 13/200\n",
            "4/4 [==============================] - 0s 5ms/step - loss: 0.3494 - accuracy: 0.8643\n",
            "Epoch 14/200\n",
            "4/4 [==============================] - 0s 5ms/step - loss: 0.3257 - accuracy: 0.8719\n",
            "Epoch 15/200\n",
            "4/4 [==============================] - 0s 5ms/step - loss: 0.3059 - accuracy: 0.8894\n",
            "Epoch 16/200\n",
            "4/4 [==============================] - 0s 5ms/step - loss: 0.2880 - accuracy: 0.8995\n",
            "Epoch 17/200\n",
            "4/4 [==============================] - 0s 5ms/step - loss: 0.2720 - accuracy: 0.9095\n",
            "Epoch 18/200\n",
            "4/4 [==============================] - 0s 5ms/step - loss: 0.2574 - accuracy: 0.9146\n",
            "Epoch 19/200\n",
            "4/4 [==============================] - 0s 5ms/step - loss: 0.2449 - accuracy: 0.9196\n",
            "Epoch 20/200\n",
            "4/4 [==============================] - 0s 5ms/step - loss: 0.2331 - accuracy: 0.9246\n",
            "Epoch 21/200\n",
            "4/4 [==============================] - 0s 5ms/step - loss: 0.2225 - accuracy: 0.9296\n",
            "Epoch 22/200\n",
            "4/4 [==============================] - 0s 7ms/step - loss: 0.2135 - accuracy: 0.9322\n",
            "Epoch 23/200\n",
            "4/4 [==============================] - 0s 5ms/step - loss: 0.2053 - accuracy: 0.9372\n",
            "Epoch 24/200\n",
            "4/4 [==============================] - 0s 5ms/step - loss: 0.1976 - accuracy: 0.9372\n",
            "Epoch 25/200\n",
            "4/4 [==============================] - 0s 5ms/step - loss: 0.1912 - accuracy: 0.9422\n",
            "Epoch 26/200\n",
            "4/4 [==============================] - 0s 5ms/step - loss: 0.1849 - accuracy: 0.9447\n",
            "Epoch 27/200\n",
            "4/4 [==============================] - 0s 4ms/step - loss: 0.1792 - accuracy: 0.9472\n",
            "Epoch 28/200\n",
            "4/4 [==============================] - 0s 5ms/step - loss: 0.1743 - accuracy: 0.9472\n",
            "Epoch 29/200\n",
            "4/4 [==============================] - 0s 5ms/step - loss: 0.1697 - accuracy: 0.9497\n",
            "Epoch 30/200\n",
            "4/4 [==============================] - 0s 5ms/step - loss: 0.1655 - accuracy: 0.9523\n",
            "Epoch 31/200\n",
            "4/4 [==============================] - 0s 5ms/step - loss: 0.1616 - accuracy: 0.9523\n",
            "Epoch 32/200\n",
            "4/4 [==============================] - 0s 4ms/step - loss: 0.1579 - accuracy: 0.9523\n",
            "Epoch 33/200\n",
            "4/4 [==============================] - 0s 4ms/step - loss: 0.1545 - accuracy: 0.9523\n",
            "Epoch 34/200\n",
            "4/4 [==============================] - 0s 5ms/step - loss: 0.1512 - accuracy: 0.9548\n",
            "Epoch 35/200\n",
            "4/4 [==============================] - 0s 5ms/step - loss: 0.1482 - accuracy: 0.9548\n",
            "Epoch 36/200\n",
            "4/4 [==============================] - 0s 4ms/step - loss: 0.1455 - accuracy: 0.9548\n",
            "Epoch 37/200\n",
            "4/4 [==============================] - 0s 5ms/step - loss: 0.1427 - accuracy: 0.9548\n",
            "Epoch 38/200\n",
            "4/4 [==============================] - 0s 5ms/step - loss: 0.1402 - accuracy: 0.9548\n",
            "Epoch 39/200\n",
            "4/4 [==============================] - 0s 4ms/step - loss: 0.1379 - accuracy: 0.9548\n",
            "Epoch 40/200\n",
            "4/4 [==============================] - 0s 5ms/step - loss: 0.1356 - accuracy: 0.9598\n",
            "Epoch 41/200\n",
            "4/4 [==============================] - 0s 5ms/step - loss: 0.1334 - accuracy: 0.9598\n",
            "Epoch 42/200\n",
            "4/4 [==============================] - 0s 5ms/step - loss: 0.1314 - accuracy: 0.9598\n",
            "Epoch 43/200\n",
            "4/4 [==============================] - 0s 5ms/step - loss: 0.1293 - accuracy: 0.9598\n",
            "Epoch 44/200\n",
            "4/4 [==============================] - 0s 5ms/step - loss: 0.1274 - accuracy: 0.9623\n",
            "Epoch 45/200\n",
            "4/4 [==============================] - 0s 4ms/step - loss: 0.1255 - accuracy: 0.9648\n",
            "Epoch 46/200\n",
            "4/4 [==============================] - 0s 4ms/step - loss: 0.1239 - accuracy: 0.9648\n",
            "Epoch 47/200\n",
            "4/4 [==============================] - 0s 5ms/step - loss: 0.1222 - accuracy: 0.9648\n",
            "Epoch 48/200\n",
            "4/4 [==============================] - 0s 4ms/step - loss: 0.1207 - accuracy: 0.9648\n",
            "Epoch 49/200\n",
            "4/4 [==============================] - 0s 5ms/step - loss: 0.1192 - accuracy: 0.9673\n",
            "Epoch 50/200\n",
            "4/4 [==============================] - 0s 5ms/step - loss: 0.1176 - accuracy: 0.9698\n",
            "Epoch 51/200\n",
            "4/4 [==============================] - 0s 5ms/step - loss: 0.1163 - accuracy: 0.9698\n",
            "Epoch 52/200\n",
            "4/4 [==============================] - 0s 5ms/step - loss: 0.1150 - accuracy: 0.9698\n",
            "Epoch 53/200\n",
            "4/4 [==============================] - 0s 5ms/step - loss: 0.1137 - accuracy: 0.9698\n",
            "Epoch 54/200\n",
            "4/4 [==============================] - 0s 5ms/step - loss: 0.1124 - accuracy: 0.9698\n",
            "Epoch 55/200\n",
            "4/4 [==============================] - 0s 5ms/step - loss: 0.1112 - accuracy: 0.9698\n",
            "Epoch 56/200\n",
            "4/4 [==============================] - 0s 4ms/step - loss: 0.1101 - accuracy: 0.9698\n",
            "Epoch 57/200\n",
            "4/4 [==============================] - 0s 5ms/step - loss: 0.1088 - accuracy: 0.9698\n",
            "Epoch 58/200\n",
            "4/4 [==============================] - 0s 5ms/step - loss: 0.1078 - accuracy: 0.9698\n",
            "Epoch 59/200\n",
            "4/4 [==============================] - 0s 5ms/step - loss: 0.1067 - accuracy: 0.9698\n",
            "Epoch 60/200\n",
            "4/4 [==============================] - 0s 4ms/step - loss: 0.1057 - accuracy: 0.9698\n",
            "Epoch 61/200\n",
            "4/4 [==============================] - 0s 4ms/step - loss: 0.1046 - accuracy: 0.9698\n",
            "Epoch 62/200\n",
            "4/4 [==============================] - 0s 4ms/step - loss: 0.1037 - accuracy: 0.9698\n",
            "Epoch 63/200\n",
            "4/4 [==============================] - 0s 5ms/step - loss: 0.1027 - accuracy: 0.9698\n",
            "Epoch 64/200\n",
            "4/4 [==============================] - 0s 4ms/step - loss: 0.1017 - accuracy: 0.9698\n",
            "Epoch 65/200\n",
            "4/4 [==============================] - 0s 5ms/step - loss: 0.1008 - accuracy: 0.9698\n",
            "Epoch 66/200\n",
            "4/4 [==============================] - 0s 5ms/step - loss: 0.0998 - accuracy: 0.9698\n",
            "Epoch 67/200\n",
            "4/4 [==============================] - 0s 5ms/step - loss: 0.0990 - accuracy: 0.9698\n",
            "Epoch 68/200\n",
            "4/4 [==============================] - 0s 5ms/step - loss: 0.0980 - accuracy: 0.9698\n",
            "Epoch 69/200\n",
            "4/4 [==============================] - 0s 4ms/step - loss: 0.0972 - accuracy: 0.9698\n",
            "Epoch 70/200\n",
            "4/4 [==============================] - 0s 5ms/step - loss: 0.0963 - accuracy: 0.9698\n",
            "Epoch 71/200\n",
            "4/4 [==============================] - 0s 5ms/step - loss: 0.0955 - accuracy: 0.9698\n",
            "Epoch 72/200\n",
            "4/4 [==============================] - 0s 4ms/step - loss: 0.0947 - accuracy: 0.9724\n",
            "Epoch 73/200\n",
            "4/4 [==============================] - 0s 4ms/step - loss: 0.0939 - accuracy: 0.9724\n",
            "Epoch 74/200\n",
            "4/4 [==============================] - 0s 9ms/step - loss: 0.0931 - accuracy: 0.9724\n",
            "Epoch 75/200\n",
            "4/4 [==============================] - 0s 5ms/step - loss: 0.0924 - accuracy: 0.9724\n",
            "Epoch 76/200\n",
            "4/4 [==============================] - 0s 5ms/step - loss: 0.0916 - accuracy: 0.9724\n",
            "Epoch 77/200\n",
            "4/4 [==============================] - 0s 5ms/step - loss: 0.0909 - accuracy: 0.9724\n",
            "Epoch 78/200\n",
            "4/4 [==============================] - 0s 5ms/step - loss: 0.0903 - accuracy: 0.9749\n",
            "Epoch 79/200\n",
            "4/4 [==============================] - 0s 5ms/step - loss: 0.0895 - accuracy: 0.9749\n",
            "Epoch 80/200\n",
            "4/4 [==============================] - 0s 5ms/step - loss: 0.0888 - accuracy: 0.9749\n",
            "Epoch 81/200\n",
            "4/4 [==============================] - 0s 5ms/step - loss: 0.0881 - accuracy: 0.9749\n",
            "Epoch 82/200\n",
            "4/4 [==============================] - 0s 5ms/step - loss: 0.0875 - accuracy: 0.9749\n",
            "Epoch 83/200\n",
            "4/4 [==============================] - 0s 5ms/step - loss: 0.0869 - accuracy: 0.9749\n",
            "Epoch 84/200\n",
            "4/4 [==============================] - 0s 5ms/step - loss: 0.0862 - accuracy: 0.9749\n",
            "Epoch 85/200\n",
            "4/4 [==============================] - 0s 5ms/step - loss: 0.0856 - accuracy: 0.9749\n",
            "Epoch 86/200\n",
            "4/4 [==============================] - 0s 5ms/step - loss: 0.0850 - accuracy: 0.9774\n",
            "Epoch 87/200\n",
            "4/4 [==============================] - 0s 5ms/step - loss: 0.0844 - accuracy: 0.9799\n",
            "Epoch 88/200\n",
            "4/4 [==============================] - 0s 5ms/step - loss: 0.0839 - accuracy: 0.9799\n",
            "Epoch 89/200\n",
            "4/4 [==============================] - 0s 8ms/step - loss: 0.0833 - accuracy: 0.9799\n",
            "Epoch 90/200\n",
            "4/4 [==============================] - 0s 5ms/step - loss: 0.0826 - accuracy: 0.9799\n",
            "Epoch 91/200\n",
            "4/4 [==============================] - 0s 5ms/step - loss: 0.0821 - accuracy: 0.9799\n",
            "Epoch 92/200\n",
            "4/4 [==============================] - 0s 6ms/step - loss: 0.0815 - accuracy: 0.9799\n",
            "Epoch 93/200\n",
            "4/4 [==============================] - 0s 5ms/step - loss: 0.0810 - accuracy: 0.9799\n",
            "Epoch 94/200\n",
            "4/4 [==============================] - 0s 5ms/step - loss: 0.0805 - accuracy: 0.9799\n",
            "Epoch 95/200\n",
            "4/4 [==============================] - 0s 5ms/step - loss: 0.0799 - accuracy: 0.9799\n",
            "Epoch 96/200\n",
            "4/4 [==============================] - 0s 6ms/step - loss: 0.0794 - accuracy: 0.9824\n",
            "Epoch 97/200\n",
            "4/4 [==============================] - 0s 5ms/step - loss: 0.0788 - accuracy: 0.9824\n",
            "Epoch 98/200\n",
            "4/4 [==============================] - 0s 7ms/step - loss: 0.0783 - accuracy: 0.9824\n",
            "Epoch 99/200\n",
            "4/4 [==============================] - 0s 5ms/step - loss: 0.0778 - accuracy: 0.9824\n",
            "Epoch 100/200\n",
            "4/4 [==============================] - 0s 5ms/step - loss: 0.0773 - accuracy: 0.9824\n",
            "Epoch 101/200\n",
            "4/4 [==============================] - 0s 5ms/step - loss: 0.0768 - accuracy: 0.9824\n",
            "Epoch 102/200\n",
            "4/4 [==============================] - 0s 5ms/step - loss: 0.0763 - accuracy: 0.9824\n",
            "Epoch 103/200\n",
            "4/4 [==============================] - 0s 5ms/step - loss: 0.0758 - accuracy: 0.9824\n",
            "Epoch 104/200\n",
            "4/4 [==============================] - 0s 6ms/step - loss: 0.0753 - accuracy: 0.9824\n",
            "Epoch 105/200\n",
            "4/4 [==============================] - 0s 5ms/step - loss: 0.0749 - accuracy: 0.9824\n",
            "Epoch 106/200\n",
            "4/4 [==============================] - 0s 5ms/step - loss: 0.0743 - accuracy: 0.9824\n",
            "Epoch 107/200\n",
            "4/4 [==============================] - 0s 7ms/step - loss: 0.0739 - accuracy: 0.9824\n",
            "Epoch 108/200\n",
            "4/4 [==============================] - 0s 5ms/step - loss: 0.0734 - accuracy: 0.9824\n",
            "Epoch 109/200\n",
            "4/4 [==============================] - 0s 5ms/step - loss: 0.0730 - accuracy: 0.9824\n",
            "Epoch 110/200\n",
            "4/4 [==============================] - 0s 5ms/step - loss: 0.0726 - accuracy: 0.9824\n",
            "Epoch 111/200\n",
            "4/4 [==============================] - 0s 5ms/step - loss: 0.0721 - accuracy: 0.9824\n",
            "Epoch 112/200\n",
            "4/4 [==============================] - 0s 6ms/step - loss: 0.0717 - accuracy: 0.9824\n",
            "Epoch 113/200\n",
            "4/4 [==============================] - 0s 5ms/step - loss: 0.0713 - accuracy: 0.9824\n",
            "Epoch 114/200\n",
            "4/4 [==============================] - 0s 5ms/step - loss: 0.0710 - accuracy: 0.9824\n",
            "Epoch 115/200\n",
            "4/4 [==============================] - 0s 5ms/step - loss: 0.0705 - accuracy: 0.9824\n",
            "Epoch 116/200\n",
            "4/4 [==============================] - 0s 5ms/step - loss: 0.0702 - accuracy: 0.9824\n",
            "Epoch 117/200\n",
            "4/4 [==============================] - 0s 6ms/step - loss: 0.0698 - accuracy: 0.9824\n",
            "Epoch 118/200\n",
            "4/4 [==============================] - 0s 7ms/step - loss: 0.0694 - accuracy: 0.9824\n",
            "Epoch 119/200\n",
            "4/4 [==============================] - 0s 5ms/step - loss: 0.0690 - accuracy: 0.9824\n",
            "Epoch 120/200\n",
            "4/4 [==============================] - 0s 5ms/step - loss: 0.0687 - accuracy: 0.9824\n",
            "Epoch 121/200\n",
            "4/4 [==============================] - 0s 5ms/step - loss: 0.0683 - accuracy: 0.9824\n",
            "Epoch 122/200\n",
            "4/4 [==============================] - 0s 8ms/step - loss: 0.0679 - accuracy: 0.9824\n",
            "Epoch 123/200\n",
            "4/4 [==============================] - 0s 7ms/step - loss: 0.0675 - accuracy: 0.9824\n",
            "Epoch 124/200\n",
            "4/4 [==============================] - 0s 5ms/step - loss: 0.0672 - accuracy: 0.9849\n",
            "Epoch 125/200\n",
            "4/4 [==============================] - 0s 5ms/step - loss: 0.0668 - accuracy: 0.9849\n",
            "Epoch 126/200\n",
            "4/4 [==============================] - 0s 5ms/step - loss: 0.0666 - accuracy: 0.9849\n",
            "Epoch 127/200\n",
            "4/4 [==============================] - 0s 5ms/step - loss: 0.0662 - accuracy: 0.9849\n",
            "Epoch 128/200\n",
            "4/4 [==============================] - 0s 6ms/step - loss: 0.0658 - accuracy: 0.9849\n",
            "Epoch 129/200\n",
            "4/4 [==============================] - 0s 5ms/step - loss: 0.0655 - accuracy: 0.9849\n",
            "Epoch 130/200\n",
            "4/4 [==============================] - 0s 5ms/step - loss: 0.0652 - accuracy: 0.9849\n",
            "Epoch 131/200\n",
            "4/4 [==============================] - 0s 5ms/step - loss: 0.0649 - accuracy: 0.9849\n",
            "Epoch 132/200\n",
            "4/4 [==============================] - 0s 5ms/step - loss: 0.0645 - accuracy: 0.9849\n",
            "Epoch 133/200\n",
            "4/4 [==============================] - 0s 5ms/step - loss: 0.0642 - accuracy: 0.9849\n",
            "Epoch 134/200\n",
            "4/4 [==============================] - 0s 5ms/step - loss: 0.0639 - accuracy: 0.9849\n",
            "Epoch 135/200\n",
            "4/4 [==============================] - 0s 5ms/step - loss: 0.0636 - accuracy: 0.9849\n",
            "Epoch 136/200\n",
            "4/4 [==============================] - 0s 5ms/step - loss: 0.0632 - accuracy: 0.9849\n",
            "Epoch 137/200\n",
            "4/4 [==============================] - 0s 5ms/step - loss: 0.0630 - accuracy: 0.9849\n",
            "Epoch 138/200\n",
            "4/4 [==============================] - 0s 6ms/step - loss: 0.0626 - accuracy: 0.9849\n",
            "Epoch 139/200\n",
            "4/4 [==============================] - 0s 5ms/step - loss: 0.0623 - accuracy: 0.9849\n",
            "Epoch 140/200\n",
            "4/4 [==============================] - 0s 5ms/step - loss: 0.0620 - accuracy: 0.9849\n",
            "Epoch 141/200\n",
            "4/4 [==============================] - 0s 5ms/step - loss: 0.0617 - accuracy: 0.9849\n",
            "Epoch 142/200\n",
            "4/4 [==============================] - 0s 5ms/step - loss: 0.0614 - accuracy: 0.9849\n",
            "Epoch 143/200\n",
            "4/4 [==============================] - 0s 5ms/step - loss: 0.0611 - accuracy: 0.9849\n",
            "Epoch 144/200\n",
            "4/4 [==============================] - 0s 5ms/step - loss: 0.0608 - accuracy: 0.9849\n",
            "Epoch 145/200\n",
            "4/4 [==============================] - 0s 5ms/step - loss: 0.0605 - accuracy: 0.9849\n",
            "Epoch 146/200\n",
            "4/4 [==============================] - 0s 5ms/step - loss: 0.0602 - accuracy: 0.9849\n",
            "Epoch 147/200\n",
            "4/4 [==============================] - 0s 5ms/step - loss: 0.0599 - accuracy: 0.9849\n",
            "Epoch 148/200\n",
            "4/4 [==============================] - 0s 6ms/step - loss: 0.0597 - accuracy: 0.9849\n",
            "Epoch 149/200\n",
            "4/4 [==============================] - 0s 5ms/step - loss: 0.0593 - accuracy: 0.9849\n",
            "Epoch 150/200\n",
            "4/4 [==============================] - 0s 5ms/step - loss: 0.0591 - accuracy: 0.9874\n",
            "Epoch 151/200\n",
            "4/4 [==============================] - 0s 5ms/step - loss: 0.0588 - accuracy: 0.9874\n",
            "Epoch 152/200\n",
            "4/4 [==============================] - 0s 5ms/step - loss: 0.0585 - accuracy: 0.9874\n",
            "Epoch 153/200\n",
            "4/4 [==============================] - 0s 5ms/step - loss: 0.0582 - accuracy: 0.9874\n",
            "Epoch 154/200\n",
            "4/4 [==============================] - 0s 5ms/step - loss: 0.0579 - accuracy: 0.9874\n",
            "Epoch 155/200\n",
            "4/4 [==============================] - 0s 5ms/step - loss: 0.0576 - accuracy: 0.9874\n",
            "Epoch 156/200\n",
            "4/4 [==============================] - 0s 7ms/step - loss: 0.0573 - accuracy: 0.9874\n",
            "Epoch 157/200\n",
            "4/4 [==============================] - 0s 7ms/step - loss: 0.0570 - accuracy: 0.9874\n",
            "Epoch 158/200\n",
            "4/4 [==============================] - 0s 6ms/step - loss: 0.0567 - accuracy: 0.9874\n",
            "Epoch 159/200\n",
            "4/4 [==============================] - 0s 5ms/step - loss: 0.0564 - accuracy: 0.9874\n",
            "Epoch 160/200\n",
            "4/4 [==============================] - 0s 7ms/step - loss: 0.0562 - accuracy: 0.9874\n",
            "Epoch 161/200\n",
            "4/4 [==============================] - 0s 6ms/step - loss: 0.0559 - accuracy: 0.9874\n",
            "Epoch 162/200\n",
            "4/4 [==============================] - 0s 5ms/step - loss: 0.0556 - accuracy: 0.9874\n",
            "Epoch 163/200\n",
            "4/4 [==============================] - 0s 6ms/step - loss: 0.0553 - accuracy: 0.9874\n",
            "Epoch 164/200\n",
            "4/4 [==============================] - 0s 7ms/step - loss: 0.0551 - accuracy: 0.9874\n",
            "Epoch 165/200\n",
            "4/4 [==============================] - 0s 6ms/step - loss: 0.0547 - accuracy: 0.9874\n",
            "Epoch 166/200\n",
            "4/4 [==============================] - 0s 6ms/step - loss: 0.0545 - accuracy: 0.9874\n",
            "Epoch 167/200\n",
            "4/4 [==============================] - 0s 6ms/step - loss: 0.0542 - accuracy: 0.9874\n",
            "Epoch 168/200\n",
            "4/4 [==============================] - 0s 6ms/step - loss: 0.0539 - accuracy: 0.9874\n",
            "Epoch 169/200\n",
            "4/4 [==============================] - 0s 6ms/step - loss: 0.0536 - accuracy: 0.9874\n",
            "Epoch 170/200\n",
            "4/4 [==============================] - 0s 6ms/step - loss: 0.0534 - accuracy: 0.9874\n",
            "Epoch 171/200\n",
            "4/4 [==============================] - 0s 6ms/step - loss: 0.0532 - accuracy: 0.9874\n",
            "Epoch 172/200\n",
            "4/4 [==============================] - 0s 6ms/step - loss: 0.0528 - accuracy: 0.9874\n",
            "Epoch 173/200\n",
            "4/4 [==============================] - 0s 6ms/step - loss: 0.0525 - accuracy: 0.9874\n",
            "Epoch 174/200\n",
            "4/4 [==============================] - 0s 6ms/step - loss: 0.0522 - accuracy: 0.9874\n",
            "Epoch 175/200\n",
            "4/4 [==============================] - 0s 5ms/step - loss: 0.0520 - accuracy: 0.9874\n",
            "Epoch 176/200\n",
            "4/4 [==============================] - 0s 6ms/step - loss: 0.0517 - accuracy: 0.9874\n",
            "Epoch 177/200\n",
            "4/4 [==============================] - 0s 6ms/step - loss: 0.0514 - accuracy: 0.9874\n",
            "Epoch 178/200\n",
            "4/4 [==============================] - 0s 8ms/step - loss: 0.0511 - accuracy: 0.9874\n",
            "Epoch 179/200\n",
            "4/4 [==============================] - 0s 6ms/step - loss: 0.0509 - accuracy: 0.9874\n",
            "Epoch 180/200\n",
            "4/4 [==============================] - 0s 5ms/step - loss: 0.0506 - accuracy: 0.9874\n",
            "Epoch 181/200\n",
            "4/4 [==============================] - 0s 6ms/step - loss: 0.0503 - accuracy: 0.9874\n",
            "Epoch 182/200\n",
            "4/4 [==============================] - 0s 7ms/step - loss: 0.0500 - accuracy: 0.9874\n",
            "Epoch 183/200\n",
            "4/4 [==============================] - 0s 6ms/step - loss: 0.0498 - accuracy: 0.9874\n",
            "Epoch 184/200\n",
            "4/4 [==============================] - 0s 6ms/step - loss: 0.0494 - accuracy: 0.9874\n",
            "Epoch 185/200\n",
            "4/4 [==============================] - 0s 5ms/step - loss: 0.0491 - accuracy: 0.9874\n",
            "Epoch 186/200\n",
            "4/4 [==============================] - 0s 8ms/step - loss: 0.0489 - accuracy: 0.9874\n",
            "Epoch 187/200\n",
            "4/4 [==============================] - 0s 5ms/step - loss: 0.0486 - accuracy: 0.9874\n",
            "Epoch 188/200\n",
            "4/4 [==============================] - 0s 5ms/step - loss: 0.0483 - accuracy: 0.9874\n",
            "Epoch 189/200\n",
            "4/4 [==============================] - 0s 5ms/step - loss: 0.0481 - accuracy: 0.9874\n",
            "Epoch 190/200\n",
            "4/4 [==============================] - 0s 5ms/step - loss: 0.0478 - accuracy: 0.9874\n",
            "Epoch 191/200\n",
            "4/4 [==============================] - 0s 5ms/step - loss: 0.0475 - accuracy: 0.9874\n",
            "Epoch 192/200\n",
            "4/4 [==============================] - 0s 5ms/step - loss: 0.0472 - accuracy: 0.9874\n",
            "Epoch 193/200\n",
            "4/4 [==============================] - 0s 5ms/step - loss: 0.0470 - accuracy: 0.9874\n",
            "Epoch 194/200\n",
            "4/4 [==============================] - 0s 5ms/step - loss: 0.0467 - accuracy: 0.9874\n",
            "Epoch 195/200\n",
            "4/4 [==============================] - 0s 5ms/step - loss: 0.0465 - accuracy: 0.9874\n",
            "Epoch 196/200\n",
            "4/4 [==============================] - 0s 5ms/step - loss: 0.0462 - accuracy: 0.9874\n",
            "Epoch 197/200\n",
            "4/4 [==============================] - 0s 5ms/step - loss: 0.0460 - accuracy: 0.9874\n",
            "Epoch 198/200\n",
            "4/4 [==============================] - 0s 7ms/step - loss: 0.0458 - accuracy: 0.9874\n",
            "Epoch 199/200\n",
            "4/4 [==============================] - 0s 5ms/step - loss: 0.0455 - accuracy: 0.9899\n",
            "Epoch 200/200\n",
            "4/4 [==============================] - 0s 5ms/step - loss: 0.0453 - accuracy: 0.9899\n"
          ]
        }
      ]
    },
    {
      "cell_type": "code",
      "source": [
        "y_pred = (y_pred>0.5)"
      ],
      "metadata": {
        "id": "cFpkV4JUHYnj"
      },
      "execution_count": 153,
      "outputs": []
    },
    {
      "cell_type": "code",
      "source": [
        "from sklearn.metrics import confusion_matrix\n",
        "from sklearn.metrics import accuracy_score\n",
        "cm = confusion_matrix(y_test,y_pred)\n",
        "score = accuracy_score(y_test,y_pred)\n",
        "print(cm)\n",
        "print('score is:',score)"
      ],
      "metadata": {
        "colab": {
          "base_uri": "https://localhost:8080/"
        },
        "id": "_iHYaBWjHhcr",
        "outputId": "86b62dd0-c8e2-4772-a7f4-f37894ad851c"
      },
      "execution_count": 154,
      "outputs": [
        {
          "output_type": "stream",
          "name": "stdout",
          "text": [
            "[[106   2]\n",
            " [  3  60]]\n",
            "score is: 0.9707602339181286\n"
          ]
        }
      ]
    },
    {
      "cell_type": "code",
      "source": [
        "plt.plot(model.history['accuracy'])\n",
        "plt.title('model accuracy')\n",
        "plt.ylabel('accuracy')\n",
        "plt.xlabel('epoch')\n",
        "plt.legend(['train', 'test'], loc='upper left')\n",
        "plt.show()"
      ],
      "metadata": {
        "colab": {
          "base_uri": "https://localhost:8080/",
          "height": 295
        },
        "id": "ew61cq87HrUM",
        "outputId": "1d358009-ee04-48c9-e78e-1e86a991ae13"
      },
      "execution_count": 155,
      "outputs": [
        {
          "output_type": "display_data",
          "data": {
            "text/plain": [
              "<Figure size 432x288 with 1 Axes>"
            ],
            "image/png": "[encoded data removed]"
          },
          "metadata": {
            "needs_background": "light"
          }
        }
      ]
    },
    {
      "cell_type": "code",
      "source": [
        "plt.plot(model.history['loss'])\n",
        "plt.title('loss')\n",
        "plt.ylabel('loss')\n",
        "plt.xlabel('epoch')\n",
        "plt.legend(['train', 'test'], loc='upper right')\n",
        "plt.show()"
      ],
      "metadata": {
        "colab": {
          "base_uri": "https://localhost:8080/",
          "height": 295
        },
        "id": "BLaBCc9DHz8M",
        "outputId": "4ffddec1-27ad-477e-8359-8e85906906cd"
      },
      "execution_count": 156,
      "outputs": [
        {
          "output_type": "display_data",
          "data": {
            "text/plain": [
              "<Figure size 432x288 with 1 Axes>"
            ],
            "image/png": "[encoded data removed]"
          },
          "metadata": {
            "needs_background": "light"
          }
        }
      ]
    }
  ]
}