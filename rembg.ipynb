{
 "cells": [
  {
   "cell_type": "code",
   "execution_count": 1,
   "id": "905f82d9",
   "metadata": {},
   "outputs": [
    {
     "name": "stdout",
     "output_type": "stream",
     "text": [
      "\u001b[0m\u001b[34;42m256_ObjectCategories\u001b[0m/     \u001b[01;31mcifar10.zip\u001b[0m  \u001b[34;42mresult\u001b[0m/                \u001b[01;32mUntitled1.ipynb\u001b[0m*\r\n",
      "\u001b[01;31m256_ObjectCategories.tar\u001b[0m  \u001b[34;42mDesktop\u001b[0m/     \u001b[34;42mresult-test\u001b[0m/           Untitled2.ipynb\r\n",
      "\u001b[01;32mak\u001b[0m*                       \u001b[34;42mDocuments\u001b[0m/   \u001b[01;32mresult.zip\u001b[0m*            \u001b[01;32mUntitled.ipynb\u001b[0m*\r\n",
      "\u001b[34;42manaconda3\u001b[0m/                \u001b[34;42mDownloads\u001b[0m/   \u001b[01;34msnap\u001b[0m/                  \u001b[34;42mVideos\u001b[0m/\r\n",
      "\u001b[01;34mcifar10\u001b[0m/                  \u001b[34;42mMusic\u001b[0m/       \u001b[34;42mTemplates\u001b[0m/\r\n",
      "\u001b[01;34mcifar-10-python\u001b[0m/          \u001b[34;42mPictures\u001b[0m/    \u001b[01;34mtiny-imagenet-200\u001b[0m/\r\n",
      "\u001b[01;31mcifar-10-python.tar.gz\u001b[0m    \u001b[34;42mPublic\u001b[0m/      \u001b[01;31mtiny-imagenet-200.zip\u001b[0m\r\n"
     ]
    }
   ],
   "source": [
    "!ls"
   ]
  },
  {
   "cell_type": "code",
   "execution_count": 2,
   "id": "88dc14e4",
   "metadata": {},
   "outputs": [
    {
     "name": "stdout",
     "output_type": "stream",
     "text": [
      "Requirement already satisfied: rembg[gpu] in ./anaconda3/lib/python3.9/site-packages (2.0.29)\n",
      "Requirement already satisfied: python-multipart==0.0.5 in ./anaconda3/lib/python3.9/site-packages (from rembg[gpu]) (0.0.5)\n",
      "Requirement already satisfied: scikit-image==0.19.3 in ./anaconda3/lib/python3.9/site-packages (from rembg[gpu]) (0.19.3)\n",
      "Requirement already satisfied: aiohttp==3.8.1 in ./anaconda3/lib/python3.9/site-packages (from rembg[gpu]) (3.8.1)\n",
      "Requirement already satisfied: numpy==1.23.5 in ./anaconda3/lib/python3.9/site-packages (from rembg[gpu]) (1.23.5)\n",
      "Requirement already satisfied: tqdm==4.64.1 in ./anaconda3/lib/python3.9/site-packages (from rembg[gpu]) (4.64.1)\n",
      "Requirement already satisfied: asyncer==0.0.2 in ./anaconda3/lib/python3.9/site-packages (from rembg[gpu]) (0.0.2)\n",
      "Requirement already satisfied: scipy==1.9.3 in ./anaconda3/lib/python3.9/site-packages (from rembg[gpu]) (1.9.3)\n",
      "Requirement already satisfied: pymatting==1.1.8 in ./anaconda3/lib/python3.9/site-packages (from rembg[gpu]) (1.1.8)\n",
      "Requirement already satisfied: pooch==1.6.0 in ./anaconda3/lib/python3.9/site-packages (from rembg[gpu]) (1.6.0)\n",
      "Requirement already satisfied: onnxruntime==1.13.1 in ./anaconda3/lib/python3.9/site-packages (from rembg[gpu]) (1.13.1)\n",
      "Requirement already satisfied: click==8.1.3 in ./anaconda3/lib/python3.9/site-packages (from rembg[gpu]) (8.1.3)\n",
      "Requirement already satisfied: filetype==1.2.0 in ./anaconda3/lib/python3.9/site-packages (from rembg[gpu]) (1.2.0)\n",
      "Requirement already satisfied: fastapi==0.87.0 in ./anaconda3/lib/python3.9/site-packages (from rembg[gpu]) (0.87.0)\n",
      "Requirement already satisfied: opencv-python-headless==4.6.0.66 in ./anaconda3/lib/python3.9/site-packages (from rembg[gpu]) (4.6.0.66)\n",
      "Requirement already satisfied: watchdog==2.1.9 in ./anaconda3/lib/python3.9/site-packages (from rembg[gpu]) (2.1.9)\n",
      "Requirement already satisfied: uvicorn==0.20.0 in ./anaconda3/lib/python3.9/site-packages (from rembg[gpu]) (0.20.0)\n",
      "Requirement already satisfied: pillow==9.3.0 in ./anaconda3/lib/python3.9/site-packages (from rembg[gpu]) (9.3.0)\n",
      "Requirement already satisfied: imagehash==4.3.1 in ./anaconda3/lib/python3.9/site-packages (from rembg[gpu]) (4.3.1)\n",
      "Requirement already satisfied: onnxruntime-gpu==1.12.1 in ./anaconda3/lib/python3.9/site-packages (from rembg[gpu]) (1.12.1)\n",
      "Requirement already satisfied: attrs>=17.3.0 in ./anaconda3/lib/python3.9/site-packages (from aiohttp==3.8.1->rembg[gpu]) (21.4.0)\n",
      "Requirement already satisfied: frozenlist>=1.1.1 in ./anaconda3/lib/python3.9/site-packages (from aiohttp==3.8.1->rembg[gpu]) (1.3.3)\n",
      "Requirement already satisfied: yarl<2.0,>=1.0 in ./anaconda3/lib/python3.9/site-packages (from aiohttp==3.8.1->rembg[gpu]) (1.8.2)\n",
      "Requirement already satisfied: async-timeout<5.0,>=4.0.0a3 in ./anaconda3/lib/python3.9/site-packages (from aiohttp==3.8.1->rembg[gpu]) (4.0.2)\n",
      "Requirement already satisfied: multidict<7.0,>=4.5 in ./anaconda3/lib/python3.9/site-packages (from aiohttp==3.8.1->rembg[gpu]) (6.0.3)\n",
      "Requirement already satisfied: charset-normalizer<3.0,>=2.0 in ./anaconda3/lib/python3.9/site-packages (from aiohttp==3.8.1->rembg[gpu]) (2.0.4)\n",
      "Requirement already satisfied: aiosignal>=1.1.2 in ./anaconda3/lib/python3.9/site-packages (from aiohttp==3.8.1->rembg[gpu]) (1.3.1)\n",
      "Requirement already satisfied: anyio<4.0.0,>=3.4.0 in ./anaconda3/lib/python3.9/site-packages (from asyncer==0.0.2->rembg[gpu]) (3.5.0)\n",
      "Requirement already satisfied: starlette==0.21.0 in ./anaconda3/lib/python3.9/site-packages (from fastapi==0.87.0->rembg[gpu]) (0.21.0)\n",
      "Requirement already satisfied: pydantic!=1.7,!=1.7.1,!=1.7.2,!=1.7.3,!=1.8,!=1.8.1,<2.0.0,>=1.6.2 in ./anaconda3/lib/python3.9/site-packages (from fastapi==0.87.0->rembg[gpu]) (1.10.2)\n",
      "Requirement already satisfied: PyWavelets in ./anaconda3/lib/python3.9/site-packages (from imagehash==4.3.1->rembg[gpu]) (1.3.0)\n",
      "Requirement already satisfied: packaging in ./anaconda3/lib/python3.9/site-packages (from onnxruntime==1.13.1->rembg[gpu]) (21.3)\n",
      "Requirement already satisfied: coloredlogs in ./anaconda3/lib/python3.9/site-packages (from onnxruntime==1.13.1->rembg[gpu]) (15.0.1)\n",
      "Requirement already satisfied: protobuf in ./anaconda3/lib/python3.9/site-packages (from onnxruntime==1.13.1->rembg[gpu]) (4.21.12)\n",
      "Requirement already satisfied: flatbuffers in ./anaconda3/lib/python3.9/site-packages (from onnxruntime==1.13.1->rembg[gpu]) (22.12.6)\n",
      "Requirement already satisfied: sympy in ./anaconda3/lib/python3.9/site-packages (from onnxruntime==1.13.1->rembg[gpu]) (1.10.1)\n",
      "Requirement already satisfied: requests>=2.19.0 in ./anaconda3/lib/python3.9/site-packages (from pooch==1.6.0->rembg[gpu]) (2.28.1)\n",
      "Requirement already satisfied: appdirs>=1.3.0 in ./anaconda3/lib/python3.9/site-packages (from pooch==1.6.0->rembg[gpu]) (1.4.4)\n",
      "Requirement already satisfied: numba!=0.49.0 in ./anaconda3/lib/python3.9/site-packages (from pymatting==1.1.8->rembg[gpu]) (0.56.4)\n",
      "Requirement already satisfied: six>=1.4.0 in ./anaconda3/lib/python3.9/site-packages (from python-multipart==0.0.5->rembg[gpu]) (1.16.0)\n",
      "Requirement already satisfied: networkx>=2.2 in ./anaconda3/lib/python3.9/site-packages (from scikit-image==0.19.3->rembg[gpu]) (2.8.4)\n",
      "Requirement already satisfied: imageio>=2.4.1 in ./anaconda3/lib/python3.9/site-packages (from scikit-image==0.19.3->rembg[gpu]) (2.19.3)\n",
      "Requirement already satisfied: tifffile>=2019.7.26 in ./anaconda3/lib/python3.9/site-packages (from scikit-image==0.19.3->rembg[gpu]) (2021.7.2)\n",
      "Requirement already satisfied: h11>=0.8 in ./anaconda3/lib/python3.9/site-packages (from uvicorn==0.20.0->rembg[gpu]) (0.14.0)\n",
      "Requirement already satisfied: typing-extensions>=3.10.0 in ./anaconda3/lib/python3.9/site-packages (from starlette==0.21.0->fastapi==0.87.0->rembg[gpu]) (4.3.0)\n",
      "Requirement already satisfied: idna>=2.8 in ./anaconda3/lib/python3.9/site-packages (from anyio<4.0.0,>=3.4.0->asyncer==0.0.2->rembg[gpu]) (3.3)\n",
      "Requirement already satisfied: sniffio>=1.1 in ./anaconda3/lib/python3.9/site-packages (from anyio<4.0.0,>=3.4.0->asyncer==0.0.2->rembg[gpu]) (1.2.0)\n",
      "Requirement already satisfied: setuptools in ./anaconda3/lib/python3.9/site-packages (from numba!=0.49.0->pymatting==1.1.8->rembg[gpu]) (63.4.1)\n",
      "Requirement already satisfied: llvmlite<0.40,>=0.39.0dev0 in ./anaconda3/lib/python3.9/site-packages (from numba!=0.49.0->pymatting==1.1.8->rembg[gpu]) (0.39.1)\n",
      "Requirement already satisfied: pyparsing!=3.0.5,>=2.0.2 in ./anaconda3/lib/python3.9/site-packages (from packaging->onnxruntime==1.13.1->rembg[gpu]) (3.0.9)\n",
      "Requirement already satisfied: certifi>=2017.4.17 in ./anaconda3/lib/python3.9/site-packages (from requests>=2.19.0->pooch==1.6.0->rembg[gpu]) (2022.9.14)\n",
      "Requirement already satisfied: urllib3<1.27,>=1.21.1 in ./anaconda3/lib/python3.9/site-packages (from requests>=2.19.0->pooch==1.6.0->rembg[gpu]) (1.26.11)\n",
      "Requirement already satisfied: humanfriendly>=9.1 in ./anaconda3/lib/python3.9/site-packages (from coloredlogs->onnxruntime==1.13.1->rembg[gpu]) (10.0)\n",
      "Requirement already satisfied: mpmath>=0.19 in ./anaconda3/lib/python3.9/site-packages (from sympy->onnxruntime==1.13.1->rembg[gpu]) (1.2.1)\n"
     ]
    }
   ],
   "source": [
    "!pip install rembg[gpu]\n"
   ]
  },
  {
   "cell_type": "code",
   "execution_count": 4,
   "id": "03fa3e8b",
   "metadata": {},
   "outputs": [
    {
     "name": "stdout",
     "output_type": "stream",
     "text": [
      "256_ObjectCategories\t  cifar10.zip  result\t\t      Untitled1.ipynb\r\n",
      "256_ObjectCategories.tar  Desktop      result-test\t      Untitled2.ipynb\r\n",
      "ak\t\t\t  Documents    result.zip\t      Untitled.ipynb\r\n",
      "anaconda3\t\t  Downloads    snap\t\t      Videos\r\n",
      "cifar10\t\t\t  Music        Templates\r\n",
      "cifar-10-python\t\t  Pictures     tiny-imagenet-200\r\n",
      "cifar-10-python.tar.gz\t  Public       tiny-imagenet-200.zip\r\n"
     ]
    }
   ],
   "source": [
    "!ls"
   ]
  },
  {
   "cell_type": "code",
   "execution_count": 5,
   "id": "2d6411a7",
   "metadata": {},
   "outputs": [
    {
     "name": "stdout",
     "output_type": "stream",
     "text": [
      "2023-01-02 20:31:05.862730034 [W:onnxruntime:Default, onnxruntime_pybind_state.cc:540 CreateExecutionProviderInstance] Failed to create TensorrtExecutionProvider. Please reference https://onnxruntime.ai/docs/execution-providers/TensorRT-ExecutionProvider.html#requirements to ensure all dependencies are met.\n",
      "2023-01-02 20:31:05.862747106 [W:onnxruntime:Default, onnxruntime_pybind_state.cc:566 CreateExecutionProviderInstance] Failed to create CUDAExecutionProvider. Please reference https://onnxruntime.ai/docs/reference/execution-providers/CUDA-ExecutionProvider.html#requirements to ensure all dependencies are met.\n",
      "100%|███████████████████████████████████| 30867/30867 [6:13:04<00:00,  1.38it/s]\n",
      "\u001b[0m"
     ]
    }
   ],
   "source": [
    "!rembg p ./256_ObjectCategories ./256_ObjectCategories_rembg"
   ]
  },
  {
   "cell_type": "code",
   "execution_count": null,
   "id": "656300e4",
   "metadata": {},
   "outputs": [
    {
     "name": "stdout",
     "output_type": "stream",
     "text": [
      "2023-01-04 21:42:30.787620010 [W:onnxruntime:Default, onnxruntime_pybind_state.cc:540 CreateExecutionProviderInstance] Failed to create TensorrtExecutionProvider. Please reference https://onnxruntime.ai/docs/execution-providers/TensorRT-ExecutionProvider.html#requirements to ensure all dependencies are met.\n",
      "2023-01-04 21:42:30.787637659 [W:onnxruntime:Default, onnxruntime_pybind_state.cc:566 CreateExecutionProviderInstance] Failed to create CUDAExecutionProvider. Please reference https://onnxruntime.ai/docs/reference/execution-providers/CUDA-ExecutionProvider.html#requirements to ensure all dependencies are met.\n",
      "  0%|                                   | 293/100600 [01:00<25:48:04,  1.08it/s]"
     ]
    }
   ],
   "source": [
    "!rembg p ./tiny-imagenet-200/train ./tiny-imagenet-200_rembg/train"
   ]
  },
  {
   "cell_type": "code",
   "execution_count": null,
   "id": "d0b13d73",
   "metadata": {},
   "outputs": [],
   "source": [
    "!rembg p ./tiny-imagenet-200/test ./tiny-imagenet-200_rembg/test"
   ]
  },
  {
   "cell_type": "code",
   "execution_count": null,
   "id": "90106641",
   "metadata": {},
   "outputs": [],
   "source": [
    "!rembg p ./tiny-imagenet-200/val ./tiny-imagenet-200_rembg/val"
   ]
  },
  {
   "cell_type": "code",
   "execution_count": null,
   "id": "2db8b6bf",
   "metadata": {},
   "outputs": [],
   "source": []
  }
 ],
 "metadata": {
  "kernelspec": {
   "display_name": "Python 3 (ipykernel)",
   "language": "python",
   "name": "python3"
  },
  "language_info": {
   "codemirror_mode": {
    "name": "ipython",
    "version": 3
   },
   "file_extension": ".py",
   "mimetype": "text/x-python",
   "name": "python",
   "nbconvert_exporter": "python",
   "pygments_lexer": "ipython3",
   "version": "3.9.13"
  }
 },
 "nbformat": 4,
 "nbformat_minor": 5
}
